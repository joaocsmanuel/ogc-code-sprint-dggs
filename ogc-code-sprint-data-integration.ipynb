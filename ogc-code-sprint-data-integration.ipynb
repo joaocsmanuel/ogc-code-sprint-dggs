{
 "cells": [
  {
   "cell_type": "markdown",
   "metadata": {},
   "source": [
    "**Tutorial**\n",
    "\n",
    "In this tutorial we will process NDVI satellite imagery and socioeconomic census data. Merging satellite imagery (NDVI vegetation index) with socioeconomic census data is crucial for regional agricultural planning because it allows decision-makers to connect environmental conditions with human factors. \n",
    "\n",
    "**NDVI (Normalized Difference Vegetation Index)** shows the health and density of vegetation based on satellite imagery.\n",
    "\n",
    "**Census data** provides insights into population, income levels, employment, and food security.\n",
    "\n",
    "Why merge them? \n",
    "- If a region has declining vegetation health (low NDVI) and high dependency on agriculture, it may indicate a risk of economic downturn or food shortages.\n",
    "- This allows governments and organizations to prioritize funding, subsidies, and disaster relief where it’s needed most.\n",
    "- If a region has both low NDVI and high food insecurity, early interventions (like food aid, better infrastructure, or market access improvements) can prevent a humanitarian crisis.\n",
    "- This ensures sustainable land use planning by balancing economic needs with environmental conservation.\n",
    "- This helps plan better roads, storage facilities, and transportation networks to ensure farmers can get their goods to market efficiently."
   ]
  },
  {
   "cell_type": "markdown",
   "metadata": {},
   "source": [
    "We will do this study for the eastern side of Belgium. \n",
    "1. Load NDVI Data: Reads satellite imagery as a raster and extracts NDVI values from eastern Belgium. [source](https://viewer.terrascope.be/?language=en&bbox=1.5633742078460393,49.69944636941702,8.363743279358971,51.590223470510296&overlay=true&bgLayer=OSM&date=2025-03-24&layer=terrascope-s2-ndvi-v2_ndvi)\n",
    "2. Load Census Data: Reads socioeconomic data from a geojson. We will focus on population and employment indices. It's clipped data from the NDVI [source](https://ec.europa.eu/eurostat/web/gisco/geodata/population-distribution/geostat).\n",
    "3. Load Density Population: Reads a raster dataset with estimated population density per grid-cell for all Belgium [source](https://hub.worldpop.org/geodata/summary?id=45254).\n",
    "4. Convert Locations to H3 DGGS: Assigns each census data point and NDVI pixel to an H3 hexagonal index.\n",
    "5. Aggregate both raster to H3 Cells: Computes the average NDVI per hex cell."
   ]
  },
  {
   "cell_type": "markdown",
   "metadata": {},
   "source": [
    "<h2>Step1 - Install libraries and load and convert NDVI to DGGS format</h2>"
   ]
  },
  {
   "cell_type": "markdown",
   "metadata": {},
   "source": [
    "**Installing libraries**"
   ]
  },
  {
   "cell_type": "code",
   "execution_count": null,
   "metadata": {},
   "outputs": [],
   "source": [
    "pip install rasterio geopandas pandas shapely"
   ]
  },
  {
   "cell_type": "code",
   "execution_count": null,
   "metadata": {},
   "outputs": [],
   "source": [
    "pip install h3 pydeck"
   ]
  },
  {
   "cell_type": "markdown",
   "metadata": {},
   "source": [
    "**Importing libraries**"
   ]
  },
  {
   "cell_type": "code",
   "execution_count": null,
   "metadata": {},
   "outputs": [],
   "source": [
    "import rasterio\n",
    "import geopandas as gpd\n",
    "import h3\n",
    "import pandas as pd\n",
    "from shapely.geometry import Point"
   ]
  },
  {
   "cell_type": "markdown",
   "metadata": {},
   "source": [
    "**Declare variables and datasets (editable)**"
   ]
  },
  {
   "cell_type": "code",
   "execution_count": null,
   "metadata": {},
   "outputs": [],
   "source": [
    "ndvi = \"ndvi.tif\"\n",
    "census = \"census_east_bel.geojson\"\n",
    "pop_dens = \"pop_density_bel.tif\" \n",
    "resolution = 7"
   ]
  },
  {
   "cell_type": "markdown",
   "metadata": {},
   "source": [
    "**Declaring functions**"
   ]
  },
  {
   "cell_type": "code",
   "execution_count": null,
   "metadata": {},
   "outputs": [],
   "source": [
    "# Load socioeconomic data (shapefile)\n",
    "def load_population_data(shapefile):\n",
    "    return gpd.read_file(shapefile)\n",
    "\n",
    "# Assign H3 index to population data\n",
    "def assign_h3_to_population(population_data, resolution=6):\n",
    "    population_data['h3_index'] = population_data.geometry.apply(lambda geom: h3.latlng_to_cell(geom.y, geom.x, resolution))\n",
    "\n",
    "\n",
    "    return population_data\n",
    "\n",
    "# Aggregate raster data into H3 cells\n",
    "def aggregate(raster, resolution=6, field=\"value\"):\n",
    "    with rasterio.open(raster) as src:\n",
    "        array = src.read(1)\n",
    "        transform = src.transform\n",
    "\n",
    "        values = []\n",
    "        for row in range(array.shape[0]):\n",
    "            for col in range(array.shape[1]):\n",
    "                lon, lat = transform * (col, row)\n",
    "                h3_index = h3.latlng_to_cell(lat, lon, resolution)\n",
    "                values.append((h3_index, float(array[row, col])))\n",
    "\n",
    "        df = pd.DataFrame(values, columns=['h3_index', field])\n",
    "        return df.groupby('h3_index', as_index=False).mean()\n"
   ]
  },
  {
   "cell_type": "markdown",
   "metadata": {},
   "source": [
    "**Aggregate NDVI data and convert to DGGS format (this is the step that takes longer)**"
   ]
  },
  {
   "cell_type": "code",
   "execution_count": null,
   "metadata": {},
   "outputs": [],
   "source": [
    "ndvi_df = aggregate(ndvi, resolution=resolution, field=\"ndvi\")\n",
    "ndvi_df[\"ndvi\"] = (ndvi_df[\"ndvi\"] - ndvi_df[\"ndvi\"].min()) / (ndvi_df[\"ndvi\"].max() - ndvi_df[\"ndvi\"].min())\n",
    "\n",
    "print(ndvi_df)"
   ]
  },
  {
   "cell_type": "markdown",
   "metadata": {},
   "source": [
    "<h2>Step2 - Load census data and convert to DGGS</h2>"
   ]
  },
  {
   "cell_type": "markdown",
   "metadata": {},
   "source": [
    "**Load census data**"
   ]
  },
  {
   "cell_type": "code",
   "execution_count": null,
   "metadata": {},
   "outputs": [],
   "source": [
    "population_data = load_population_data(census)"
   ]
  },
  {
   "cell_type": "markdown",
   "metadata": {},
   "source": [
    "**Convert census data to DGGS format**"
   ]
  },
  {
   "cell_type": "code",
   "execution_count": null,
   "metadata": {},
   "outputs": [],
   "source": [
    "population_data = assign_h3_to_population(population_data, resolution=resolution)\n",
    "population_data = population_data[[\"h3_index\", \"T\", \"M\", \"F\", \"EMP\"]]\n",
    "population_data = population_data.groupby(\"h3_index\", as_index=False).sum()\n",
    "\n",
    "population_data[\"EMP_PERC\"] = population_data[\"EMP\"] * 100/population_data[\"T\"]\n",
    "        \n",
    "print(population_data)"
   ]
  },
  {
   "cell_type": "markdown",
   "metadata": {},
   "source": [
    "**Aggregate population density data and convert to DGGS format**"
   ]
  },
  {
   "cell_type": "code",
   "execution_count": null,
   "metadata": {},
   "outputs": [],
   "source": [
    "bel_pop_density = aggregate(pop_dens, resolution=resolution, field=\"population_density\")\n",
    "print(bel_pop_density)"
   ]
  },
  {
   "cell_type": "markdown",
   "metadata": {},
   "source": [
    "**Merge all datasets**"
   ]
  },
  {
   "cell_type": "code",
   "execution_count": null,
   "metadata": {},
   "outputs": [],
   "source": [
    "df = population_data.merge(ndvi_df, on='h3_index', how='left').dropna()\n",
    "print(population_data)\n",
    "df = df.merge(bel_pop_density, on='h3_index', how='left').dropna()\n",
    "print(df)"
   ]
  },
  {
   "cell_type": "markdown",
   "metadata": {},
   "source": [
    "<h2>Step3 -Visualize it in the map</h2>"
   ]
  },
  {
   "cell_type": "markdown",
   "metadata": {},
   "source": [
    "**Visualize DGGS in a map**"
   ]
  },
  {
   "cell_type": "code",
   "execution_count": null,
   "metadata": {},
   "outputs": [],
   "source": [
    "\n",
    "import pydeck as pdk\n",
    "import pandas as pd\n",
    "\n",
    "\n",
    "# Define a layer to display on a map\n",
    "layer = pdk.Layer(\n",
    "    \"H3HexagonLayer\",\n",
    "    df,\n",
    "    pickable=True,\n",
    "    stroked=True,\n",
    "    filled=True,\n",
    "    extruded=True,\n",
    "    get_hexagon=\"h3_index\",\n",
    "    get_fill_color=\"[0, (1.3-ndvi)  * 255, 0]\",\n",
    "    get_line_color=[255, 255, 255],\n",
    "    line_width_min_pixels=2,\n",
    ")\n",
    "\n",
    "# Set the viewport location\n",
    "view_state = pdk.ViewState(latitude=50.5010789 , longitude=4.4764595, zoom=6, bearing=0)\n",
    "\n",
    "\n",
    "# Render\n",
    "r = pdk.Deck(layers=[layer], initial_view_state=view_state,\n",
    "             map_style=\"light\",\n",
    "    tooltip={\"text\": \"NDVI: {ndvi} \\n Population: {T} \\n Male Population: {M} \\n Female population: {F} \\n Employed population: {EMP_PERC}%\"})\n",
    "r.show()"
   ]
  }
 ],
 "metadata": {
  "kernelspec": {
   "display_name": "Python 3 (ipykernel)",
   "language": "python",
   "name": "python3"
  },
  "language_info": {
   "codemirror_mode": {
    "name": "ipython",
    "version": 3
   },
   "file_extension": ".py",
   "mimetype": "text/x-python",
   "name": "python",
   "nbconvert_exporter": "python",
   "pygments_lexer": "ipython3",
   "version": "3.12.4"
  }
 },
 "nbformat": 4,
 "nbformat_minor": 4
}
